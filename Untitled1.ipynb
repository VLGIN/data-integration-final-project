{
 "cells": [
  {
   "cell_type": "code",
   "execution_count": 1,
   "id": "e323d682-08d3-47c4-a1a8-3703717e1232",
   "metadata": {},
   "outputs": [],
   "source": [
    "import requests"
   ]
  },
  {
   "cell_type": "code",
   "execution_count": 5,
   "id": "87ecdaad-7dc5-4cb2-8e15-c743bc0df6f3",
   "metadata": {},
   "outputs": [
    {
     "name": "stdout",
     "output_type": "stream",
     "text": [
      "get\n",
      "get\n",
      "get\n",
      "get\n",
      "get\n",
      "get\n",
      "get\n",
      "get\n",
      "get\n",
      "get\n",
      "get\n",
      "get\n",
      "get\n",
      "get\n",
      "get\n",
      "get\n",
      "get\n",
      "get\n",
      "get\n",
      "get\n",
      "get\n",
      "get\n",
      "get\n",
      "get\n",
      "get\n",
      "get\n",
      "get\n",
      "get\n",
      "get\n",
      "get\n",
      "get\n",
      "get\n",
      "get\n",
      "get\n",
      "get\n",
      "get\n",
      "get\n",
      "get\n",
      "get\n"
     ]
    }
   ],
   "source": [
    "headers = {\n",
    "            \"user-agent\": \"Mozilla/5.0 (Windows NT 10.0; Win64; x64) AppleWebKit/537.36 (KHTML, like Gecko) Chrome/88.\"\n",
    "                          \"0.4324.182 Safari/537.36\"}\n",
    "        # webpage = requests.get(url, headers=headers).text\n",
    "        # time.sleep(0.5)\n",
    "        # soup = BeautifulSoup(webpage, 'html.parser')\n",
    "        # data = soup.find_all('div', {\"class\": \"css-13w7uog\"})\n",
    "url = \"https://discovery.tekoapis.com/api/v1/search\"\n",
    "json_data = {\n",
    "    'filter': {\n",
    "        'priceLte': '0',\n",
    "        'priceGte': '0',\n",
    "        'categories': [\n",
    "            '05-N001-02',\n",
    "        ],\n",
    "        'hasPromotions': False,\n",
    "        'attributes': [],\n",
    "    },\n",
    "    'pagination': {\n",
    "        'itemsPerPage': '100',\n",
    "    },\n",
    "    'query': '',\n",
    "    'sorting': {\n",
    "        'sort': 'SORT_BY_SCORE',\n",
    "        'order': 'ORDER_BY_DESCENDING',\n",
    "    },\n",
    "    'returnFilterable': [\n",
    "        'FILTER_TYPE_BRAND',\n",
    "        'FILTER_TYPE_PRICE',\n",
    "        'FILTER_TYPE_ATTRIBUTE',\n",
    "        'FILTER_TYPE_CLEARANCE',\n",
    "    ],\n",
    "    'terminalCode': 'phongvu',\n",
    "    'block': {\n",
    "        'blockId': '1011',\n",
    "    },\n",
    "}\n",
    "skus = []\n",
    "response_data = requests.post(url, headers=headers, json=json_data).json()\n",
    "for each in response_data[\"result\"][\"products\"]:\n",
    "    try:\n",
    "        print(\"get\")\n",
    "        skus.append(each[\"productInfo\"][\"sku\"])\n",
    "    except:\n",
    "        pass"
   ]
  },
  {
   "cell_type": "code",
   "execution_count": 6,
   "id": "41f63c39-43d2-4609-a1a5-1500e8c9f561",
   "metadata": {},
   "outputs": [
    {
     "data": {
      "text/plain": [
       "39"
      ]
     },
     "execution_count": 6,
     "metadata": {},
     "output_type": "execute_result"
    }
   ],
   "source": [
    "len(skus)"
   ]
  },
  {
   "cell_type": "code",
   "execution_count": 8,
   "id": "9f59371c-521c-408f-93b5-90d24acf3c02",
   "metadata": {},
   "outputs": [
    {
     "data": {
      "text/plain": [
       "['210103647',\n",
       " '210103648',\n",
       " '211201457',\n",
       " '220200754',\n",
       " '220200757',\n",
       " '220200758',\n",
       " '220200759',\n",
       " '220200761',\n",
       " '220200762',\n",
       " '220200763',\n",
       " '220200764',\n",
       " '220200765',\n",
       " '220303087',\n",
       " '190800499',\n",
       " '190800502',\n",
       " '191004604',\n",
       " '200200643',\n",
       " '200600370',\n",
       " '200800253',\n",
       " '200800260',\n",
       " '210100059',\n",
       " '210403274',\n",
       " '211005340',\n",
       " '211009091',\n",
       " '220200760',\n",
       " '220400077',\n",
       " '220400081',\n",
       " '1209154',\n",
       " '1702053',\n",
       " '191004601',\n",
       " '200100216',\n",
       " '200300244',\n",
       " '200300247',\n",
       " '200300249',\n",
       " '200300252',\n",
       " '200500304',\n",
       " '200500307',\n",
       " '210201906',\n",
       " '210403298']"
      ]
     },
     "execution_count": 8,
     "metadata": {},
     "output_type": "execute_result"
    }
   ],
   "source": [
    "skus"
   ]
  },
  {
   "cell_type": "code",
   "execution_count": null,
   "id": "becec536-9096-4bcc-b286-94277e990782",
   "metadata": {},
   "outputs": [],
   "source": []
  }
 ],
 "metadata": {
  "kernelspec": {
   "display_name": "Python 3 (ipykernel)",
   "language": "python",
   "name": "python3"
  },
  "language_info": {
   "codemirror_mode": {
    "name": "ipython",
    "version": 3
   },
   "file_extension": ".py",
   "mimetype": "text/x-python",
   "name": "python",
   "nbconvert_exporter": "python",
   "pygments_lexer": "ipython3",
   "version": "3.9.13"
  }
 },
 "nbformat": 4,
 "nbformat_minor": 5
}
