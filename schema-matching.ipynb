{
 "cells": [
  {
   "cell_type": "code",
   "execution_count": 1,
   "id": "d4bea991-a64a-49fd-a3c8-ee4f40f6e639",
   "metadata": {},
   "outputs": [],
   "source": [
    "from valentine import algorithms\n",
    "from valentine import valentine_match"
   ]
  },
  {
   "cell_type": "code",
   "execution_count": 2,
   "id": "668437dc-6512-4c2d-9958-8d58aa7ba43b",
   "metadata": {},
   "outputs": [],
   "source": [
    "import pandas as pd"
   ]
  },
  {
   "cell_type": "code",
   "execution_count": 3,
   "id": "75a3dfb5-0f59-4e48-a1a2-68f843998afc",
   "metadata": {},
   "outputs": [],
   "source": [
    "didongviet = pd.read_csv(\"airflow/dags/data/phongvu_didongviet.csv\")"
   ]
  },
  {
   "cell_type": "code",
   "execution_count": 4,
   "id": "d084d4eb-c6ca-4e29-a892-616a586b30e9",
   "metadata": {},
   "outputs": [],
   "source": [
    "phongvu = pd.read_csv(\"airflow/dags/data/cellphones_didongthongminh_mediamart_thegioididong.csv\")"
   ]
  },
  {
   "cell_type": "code",
   "execution_count": 5,
   "id": "c1e49c3c-405a-42a1-ac6e-e11bd7ad852b",
   "metadata": {},
   "outputs": [],
   "source": [
    "matcher = algorithms.JaccardLevenMatcher()"
   ]
  },
  {
   "cell_type": "code",
   "execution_count": 6,
   "id": "5b96ff2b-f71e-40cc-b4d9-f944bc7c3438",
   "metadata": {},
   "outputs": [],
   "source": [
    "results = valentine_match(phongvu, didongviet, matcher)"
   ]
  },
  {
   "cell_type": "code",
   "execution_count": 7,
   "id": "c9c4930a-ce77-4034-948c-b632e174f023",
   "metadata": {},
   "outputs": [
    {
     "data": {
      "text/plain": [
       "{(('table_1', 'date'), ('table_2', 'date')): 1.0,\n",
       " (('table_1', 'bộ nhớ'), ('table_2', 'bộ nhớ')): 0.6666666666666666,\n",
       " (('table_1', 'chất liệu mặt lưng'),\n",
       "  ('table_2', 'chất liệu')): 0.6666666666666666,\n",
       " (('table_1', 'công nghệ nfc'), ('table_2', 'hỗ trợ poe')): 0.625,\n",
       " (('table_1', 'ram'), ('table_2', 'ram')): 0.5555555555555556,\n",
       " (('table_1', 'color'), ('table_2', 'color')): 0.5217391304347826,\n",
       " (('table_1', 'ram'), ('table_2', 'bộ nhớ')): 0.4642857142857143,\n",
       " (('table_1', 'price'), ('table_2', 'price')): 0.43291139240506327,\n",
       " (('table_1', 'wi-fi'), ('table_2', 'wifi')): 0.4132231404958678,\n",
       " (('table_1', 'bộ nhớ'), ('table_2', 'ram')): 0.38461538461538464,\n",
       " (('table_1', 'cổng sạc'), ('table_2', 'jack tai nghe')): 0.38461538461538464,\n",
       " (('table_1', 'ram'), ('table_2', 'bộ nhớ trong')): 0.375,\n",
       " (('table_1', 'chipset'), ('table_2', 'chip')): 0.3686635944700461,\n",
       " (('table_1', 'hỗ trợ mạng'), ('table_2', 'mạng di động')): 0.3684210526315789,\n",
       " (('table_1', 'trọng lượng'), ('table_2', 'khối lượng')): 0.3668639053254438,\n",
       " (('table_1', 'thẻ sim'), ('table_2', 'loại sim')): 0.3333333333333333,\n",
       " (('table_1', 'hồng ngoại'),\n",
       "  ('table_2', 'màn hình cảm ứng')): 0.3333333333333333,\n",
       " (('table_1', 'công nghệ màn hình'),\n",
       "  ('table_2', 'công nghệ màn hình')): 0.3235294117647059,\n",
       " (('table_1', 'pin'), ('table_2', 'pin')): 0.27586206896551724,\n",
       " (('table_1', 'cổng sạc'), ('table_2', 'cổng sạc')): 0.2727272727272727,\n",
       " (('table_1', 'name'), ('table_2', 'name')): 0.254278728606357,\n",
       " (('table_1', 'cảm biến vân tay'), ('table_2', 'kết nối khác')): 0.25,\n",
       " (('table_1', 'bộ nhớ'), ('table_2', 'bộ nhớ trong')): 0.22727272727272727,\n",
       " (('table_1', 'bluetooth'), ('table_2', 'số cổng')): 0.2222222222222222,\n",
       " (('table_1', 'hệ điều hành'),\n",
       "  ('table_2', 'hệ điều hành')): 0.19298245614035087,\n",
       " (('table_1', 'camera trước'),\n",
       "  ('table_2', 'camera trước')): 0.18181818181818182,\n",
       " (('table_1', 'tính năng màn hình'),\n",
       "  ('table_2', 'loại màn hình')): 0.11790393013100436,\n",
       " (('table_1', 'công nghệ nfc'),\n",
       "  ('table_2', 'màn hình cảm ứng')): 0.1111111111111111,\n",
       " (('table_1', 'hồng ngoại'), ('table_2', 'hỗ trợ poe')): 0.1,\n",
       " (('table_1', 'loại cpu'), ('table_2', 'chip')): 0.09361702127659574,\n",
       " (('table_1', 'thẻ sim'), ('table_2', 'mạng di động')): 0.08571428571428572,\n",
       " (('table_1', 'công nghệ màn hình'),\n",
       "  ('table_2', 'loại màn hình')): 0.0851063829787234,\n",
       " (('table_1', 'jack tai nghe 3.5'),\n",
       "  ('table_2', 'màn hình cảm ứng')): 0.08333333333333333,\n",
       " (('table_1', 'trọng lượng'), ('table_2', 'bộ nhớ')): 0.07692307692307693,\n",
       " (('table_1', 'hồng ngoại'),\n",
       "  ('table_2', 'jack tai nghe')): 0.07692307692307693,\n",
       " (('table_1', 'công nghệ nfc'),\n",
       "  ('table_2', 'jack tai nghe')): 0.06666666666666667,\n",
       " (('table_1', 'jack tai nghe 3.5'),\n",
       "  ('table_2', 'hỗ trợ poe')): 0.06666666666666667,\n",
       " (('table_1', 'hỗ trợ mạng'), ('table_2', 'ram')): 0.0625,\n",
       " (('table_1', 'img_url'), ('table_2', 'color')): 0.05555555555555555,\n",
       " (('table_1', 'chỉ số kháng nước, bụi'),\n",
       "  ('table_2', 'jack tai nghe')): 0.05555555555555555,\n",
       " (('table_1', 'jack tai nghe 3.5'),\n",
       "  ('table_2', 'jack tai nghe')): 0.05555555555555555,\n",
       " (('table_1', 'trọng lượng'),\n",
       "  ('table_2', 'bộ nhớ trong')): 0.05454545454545454,\n",
       " (('table_1', 'trọng lượng'), ('table_2', 'ram')): 0.045714285714285714,\n",
       " (('table_1', 'chỉ số kháng nước, bụi'),\n",
       "  ('table_2', 'bộ nhớ trong')): 0.045454545454545456,\n",
       " (('table_1', 'khe cắm thẻ nhớ'), ('table_2', 'bộ nhớ')): 0.043478260869565216,\n",
       " (('table_1', 'chỉ số kháng nước, bụi'),\n",
       "  ('table_2', 'dung lượng pin')): 0.041666666666666664,\n",
       " (('table_1', 'tính năng màn hình'),\n",
       "  ('table_2', 'độ phân giải')): 0.04145077720207254,\n",
       " (('table_1', 'chỉ số kháng nước, bụi'),\n",
       "  ('table_2', 'kết nối khác')): 0.037037037037037035,\n",
       " (('table_1', 'chỉ số kháng nước, bụi'),\n",
       "  ('table_2', 'cổng sạc')): 0.03571428571428571,\n",
       " (('table_1', 'chỉ số kháng nước, bụi'),\n",
       "  ('table_2', 'công nghệ màn hình')): 0.03571428571428571,\n",
       " (('table_1', 'ram'), ('table_2', 'khối lượng')): 0.034482758620689655,\n",
       " (('table_1', 'cảm biến vân tay'),\n",
       "  ('table_2', 'jack tai nghe')): 0.03333333333333333,\n",
       " (('table_1', 'khe cắm thẻ nhớ'),\n",
       "  ('table_2', 'bộ nhớ trong')): 0.03225806451612903,\n",
       " (('table_1', 'ram'), ('table_2', 'mạng di động')): 0.030303030303030304,\n",
       " (('table_1', 'camera trước'),\n",
       "  ('table_2', 'camera sau')): 0.029045643153526972,\n",
       " (('table_1', 'Unnamed: 0'), ('table_2', 'khối lượng')): 0.02857142857142857,\n",
       " (('table_1', 'khe cắm thẻ nhớ'), ('table_2', 'ram')): 0.028169014084507043,\n",
       " (('table_1', 'chỉ số kháng nước, bụi'), ('table_2', 'camera trước')): 0.025,\n",
       " (('table_1', 'chỉ số kháng nước, bụi'), ('table_2', 'số cổng')): 0.025,\n",
       " (('table_1', 'wi-fi'), ('table_2', 'gps')): 0.024844720496894408,\n",
       " (('table_1', 'tính năng đặc biệt'),\n",
       "  ('table_2', 'mạng di động')): 0.024691358024691357,\n",
       " (('table_1', 'chỉ số kháng nước, bụi'),\n",
       "  ('table_2', 'chất liệu')): 0.024390243902439025,\n",
       " (('table_1', 'bộ nhớ'), ('table_2', 'khối lượng')): 0.024390243902439025,\n",
       " (('table_1', 'chỉ số kháng nước, bụi'),\n",
       "  ('table_2', 'loại sim')): 0.022222222222222223,\n",
       " (('table_1', 'ram'), ('table_2', 'camera trước')): 0.02,\n",
       " (('table_1', 'khe cắm thẻ nhớ'),\n",
       "  ('table_2', 'màn hình cảm ứng')): 0.018867924528301886,\n",
       " (('table_1', 'khe cắm thẻ nhớ'),\n",
       "  ('table_2', 'hỗ trợ poe')): 0.017857142857142856,\n",
       " (('table_1', 'khe cắm thẻ nhớ'),\n",
       "  ('table_2', 'jack tai nghe')): 0.01694915254237288,\n",
       " (('table_1', 'hồng ngoại'), ('table_2', 'gps')): 0.015873015873015872,\n",
       " (('table_1', 'công nghệ nfc'), ('table_2', 'gps')): 0.015384615384615385,\n",
       " (('table_1', 'chỉ số kháng nước, bụi'),\n",
       "  ('table_2', 'gps')): 0.014705882352941176,\n",
       " (('table_1', 'jack tai nghe 3.5'), ('table_2', 'gps')): 0.014705882352941176,\n",
       " (('table_1', 'tính năng màn hình'),\n",
       "  ('table_2', 'công nghệ màn hình')): 0.0136986301369863,\n",
       " (('table_1', 'bluetooth'), ('table_2', 'gps')): 0.013605442176870748,\n",
       " (('table_1', 'chỉ số kháng nước, bụi'),\n",
       "  ('table_2', 'wifi')): 0.013513513513513514,\n",
       " (('table_1', 'tính năng đặc biệt'),\n",
       "  ('table_2', 'hỗ trợ poe')): 0.013513513513513514,\n",
       " (('table_1', 'bluetooth'), ('table_2', 'wifi')): 0.013071895424836602,\n",
       " (('table_1', 'Unnamed: 0'), ('table_2', 'name')): 0.0129366106080207,\n",
       " (('table_1', 'chỉ số kháng nước, bụi'),\n",
       "  ('table_2', 'khối lượng')): 0.012658227848101266,\n",
       " (('table_1', 'chỉ số kháng nước, bụi'),\n",
       "  ('table_2', 'độ phân giải')): 0.012345679012345678,\n",
       " (('table_1', 'pin'), ('table_2', 'dung lượng pin')): 0.011695906432748537,\n",
       " (('table_1', 'bluetooth'),\n",
       "  ('table_2', 'màn hình cảm ứng')): 0.010869565217391304,\n",
       " (('table_1', 'chỉ số kháng nước, bụi'),\n",
       "  ('table_2', 'chip')): 0.010638297872340425,\n",
       " (('table_1', 'bluetooth'), ('table_2', 'hỗ trợ poe')): 0.010526315789473684,\n",
       " (('table_1', 'bluetooth'), ('table_2', 'jack tai nghe')): 0.01020408163265306,\n",
       " (('table_1', 'bluetooth'), ('table_2', 'bộ nhớ trong')): 0.00980392156862745,\n",
       " (('table_1', 'bluetooth'),\n",
       "  ('table_2', 'dung lượng pin')): 0.009615384615384616,\n",
       " (('table_1', 'camera trước'),\n",
       "  ('table_2', 'độ phân giải')): 0.009615384615384616,\n",
       " (('table_1', 'bluetooth'), ('table_2', 'kết nối khác')): 0.009345794392523364,\n",
       " (('table_1', 'bluetooth'), ('table_2', 'cổng sạc')): 0.009259259259259259,\n",
       " (('table_1', 'bluetooth'),\n",
       "  ('table_2', 'công nghệ màn hình')): 0.009259259259259259,\n",
       " (('table_1', 'wi-fi'), ('table_2', 'màn hình cảm ứng')): 0.009259259259259259,\n",
       " (('table_1', 'khe cắm thẻ nhớ'), ('table_2', 'gps')): 0.009174311926605505,\n",
       " (('table_1', 'wi-fi'), ('table_2', 'hỗ trợ poe')): 0.009009009009009009,\n",
       " (('table_1', 'chỉ số kháng nước, bụi'),\n",
       "  ('table_2', 'kích thước')): 0.008849557522123894,\n",
       " (('table_1', 'wi-fi'), ('table_2', 'jack tai nghe')): 0.008771929824561403,\n",
       " (('table_1', 'wi-fi'), ('table_2', 'bộ nhớ trong')): 0.00847457627118644,\n",
       " (('table_1', 'chỉ số kháng nước, bụi'),\n",
       "  ('table_2', 'camera sau')): 0.008403361344537815,\n",
       " (('table_1', 'jack tai nghe 3.5'),\n",
       "  ('table_2', 'camera sau')): 0.008403361344537815,\n",
       " (('table_1', 'bluetooth'), ('table_2', 'camera trước')): 0.008333333333333333,\n",
       " (('table_1', 'wi-fi'), ('table_2', 'dung lượng pin')): 0.008333333333333333,\n",
       " (('table_1', 'bluetooth'), ('table_2', 'chất liệu')): 0.008264462809917356,\n",
       " (('table_1', 'wi-fi'), ('table_2', 'kết nối khác')): 0.008130081300813009,\n",
       " (('table_1', 'wi-fi'), ('table_2', 'cổng sạc')): 0.008064516129032258,\n",
       " (('table_1', 'wi-fi'),\n",
       "  ('table_2', 'công nghệ màn hình')): 0.008064516129032258,\n",
       " (('table_1', 'bluetooth'), ('table_2', 'loại sim')): 0.008,\n",
       " (('table_1', 'ram'), ('table_2', 'camera sau')): 0.007751937984496124,\n",
       " (('table_1', 'tính năng đặc biệt'),\n",
       "  ('table_2', 'công nghệ pin')): 0.007633587786259542,\n",
       " (('table_1', 'trọng lượng'),\n",
       "  ('table_2', 'kích thước')): 0.0076045627376425855,\n",
       " (('table_1', 'chỉ số kháng nước, bụi'),\n",
       "  ('table_2', 'loại màn hình')): 0.007352941176470588,\n",
       " (('table_1', 'wi-fi'), ('table_2', 'camera trước')): 0.007352941176470588,\n",
       " (('table_1', 'wi-fi'), ('table_2', 'số cổng')): 0.007352941176470588,\n",
       " (('table_1', 'wi-fi'), ('table_2', 'chất liệu')): 0.0072992700729927005,\n",
       " (('table_1', 'wi-fi'), ('table_2', 'loại sim')): 0.0070921985815602835,\n",
       " (('table_1', 'camera trước'),\n",
       "  ('table_2', 'jack tai nghe')): 0.00684931506849315,\n",
       " (('table_1', 'bluetooth'), ('table_2', 'khối lượng')): 0.006289308176100629,\n",
       " (('table_1', 'bluetooth'), ('table_2', 'độ phân giải')): 0.006211180124223602,\n",
       " (('table_1', 'trọng lượng'),\n",
       "  ('table_2', 'jack tai nghe')): 0.005917159763313609,\n",
       " (('table_1', 'bluetooth'), ('table_2', 'chip')): 0.005747126436781609,\n",
       " (('table_1', 'trọng lượng'),\n",
       "  ('table_2', 'dung lượng pin')): 0.005714285714285714,\n",
       " (('table_1', 'wi-fi'), ('table_2', 'khối lượng')): 0.005714285714285714,\n",
       " (('table_1', 'wi-fi'), ('table_2', 'độ phân giải')): 0.005649717514124294,\n",
       " (('table_1', 'trọng lượng'),\n",
       "  ('table_2', 'kết nối khác')): 0.0056179775280898875,\n",
       " (('table_1', 'trọng lượng'), ('table_2', 'cổng sạc')): 0.00558659217877095,\n",
       " (('table_1', 'trọng lượng'),\n",
       "  ('table_2', 'công nghệ màn hình')): 0.00558659217877095,\n",
       " (('table_1', 'wi-fi'), ('table_2', 'chip')): 0.005263157894736842,\n",
       " (('table_1', 'trọng lượng'),\n",
       "  ('table_2', 'camera trước')): 0.005235602094240838,\n",
       " (('table_1', 'trọng lượng'), ('table_2', 'số cổng')): 0.005235602094240838,\n",
       " (('table_1', 'trọng lượng'), ('table_2', 'chất liệu')): 0.005208333333333333,\n",
       " (('table_1', 'bluetooth'), ('table_2', 'kích thước')): 0.0051813471502590676,\n",
       " (('table_1', 'trọng lượng'), ('table_2', 'loại sim')): 0.00510204081632653,\n",
       " (('table_1', 'bluetooth'), ('table_2', 'camera sau')): 0.005025125628140704,\n",
       " (('table_1', 'wi-fi'), ('table_2', 'kích thước')): 0.004784688995215311,\n",
       " (('table_1', 'wi-fi'), ('table_2', 'camera sau')): 0.004651162790697674,\n",
       " (('table_1', 'bluetooth'),\n",
       "  ('table_2', 'loại màn hình')): 0.004629629629629629,\n",
       " (('table_1', 'trọng lượng'), ('table_2', 'gps')): 0.0045662100456621,\n",
       " (('table_1', 'pin'), ('table_2', 'công nghệ pin')): 0.004545454545454545,\n",
       " (('table_1', 'trọng lượng'), ('table_2', 'wifi')): 0.0044444444444444444,\n",
       " (('table_1', 'trọng lượng'),\n",
       "  ('table_2', 'độ phân giải')): 0.004310344827586207,\n",
       " (('table_1', 'wi-fi'), ('table_2', 'loại màn hình')): 0.004310344827586207,\n",
       " (('table_1', 'trọng lượng'), ('table_2', 'chip')): 0.004081632653061225,\n",
       " (('table_1', 'trọng lượng'), ('table_2', 'camera sau')): 0.003703703703703704,\n",
       " (('table_1', 'trọng lượng'),\n",
       "  ('table_2', 'loại màn hình')): 0.003484320557491289,\n",
       " (('table_1', 'Unnamed: 0'), ('table_2', 'số cổng')): 0.0032948929159802307,\n",
       " (('table_1', 'hệ điều hành'), ('table_2', 'name')): 0.003246753246753247,\n",
       " (('table_1', 'chipset'), ('table_2', 'name')): 0.002403846153846154}"
      ]
     },
     "execution_count": 7,
     "metadata": {},
     "output_type": "execute_result"
    }
   ],
   "source": [
    "results"
   ]
  },
  {
   "cell_type": "code",
   "execution_count": 8,
   "id": "379e634b-63d7-4182-8f82-a94771653f11",
   "metadata": {},
   "outputs": [],
   "source": [
    "mapping = {}\n",
    "\n",
    "for x in results:\n",
    "    if x[0][1] not in mapping.keys() and x[1][1] not in mapping.values():\n",
    "        mapping[x[0][1]] = x[1][1]"
   ]
  },
  {
   "cell_type": "code",
   "execution_count": 9,
   "id": "5e4c04de-b1fe-4976-9889-3e2bada04a9a",
   "metadata": {},
   "outputs": [
    {
     "data": {
      "text/plain": [
       "25"
      ]
     },
     "execution_count": 9,
     "metadata": {},
     "output_type": "execute_result"
    }
   ],
   "source": [
    "len(list(mapping))"
   ]
  },
  {
   "cell_type": "code",
   "execution_count": 10,
   "id": "37f6b360-3eed-49c9-9d13-abfe1aabe77a",
   "metadata": {},
   "outputs": [],
   "source": [
    "mapping = {item[0]: item[1] for item in mapping.items() if item[0] != \"Unnamed: 0\"}"
   ]
  },
  {
   "cell_type": "code",
   "execution_count": 11,
   "id": "97eb1b56-f643-48ef-a8f7-bdf17ac505c0",
   "metadata": {},
   "outputs": [],
   "source": [
    "import json"
   ]
  },
  {
   "cell_type": "code",
   "execution_count": 26,
   "id": "9b230e6e-a16f-4c1a-9d1d-a6f7386f0330",
   "metadata": {},
   "outputs": [],
   "source": [
    "with open(\"airflow/dags/operators/mapping_phongvu_didongviet.json\",\"w\") as f:\n",
    "    json.dump(mapping, f)"
   ]
  },
  {
   "cell_type": "code",
   "execution_count": 24,
   "id": "56a58f76-8066-4506-9c32-45749417f579",
   "metadata": {},
   "outputs": [
    {
     "data": {
      "text/plain": [
       "{'kích thước màn hình': 'kích thước màn hình',\n",
       " 'date': 'date',\n",
       " 'color': 'color',\n",
       " 'price': 'price',\n",
       " 'ram': 'ram',\n",
       " 'kết nối khác': 'kết nối khác',\n",
       " 'màn hình cảm ứng': 'radio',\n",
       " 'chip': 'chipset (hãng sx cpu)',\n",
       " 'khối lượng': 'trọng lượng',\n",
       " 'bộ nhớ': 'bộ nhớ',\n",
       " 'độ phân giải': 'độ phân giải',\n",
       " 'camera trước': 'camera trước',\n",
       " 'gps': 'gps',\n",
       " 'pin': 'dung lượng pin',\n",
       " 'jack tai nghe': 'jack tai nghe',\n",
       " 'loại sim': 'sim',\n",
       " 'wifi': 'wifi',\n",
       " 'mạng di động': 'mạng di động',\n",
       " 'loại màn hình': 'màn hình rộng',\n",
       " 'name': 'name',\n",
       " 'hỗ trợ poe': 'ghi âm',\n",
       " 'kích thước': 'kích thước',\n",
       " 'cổng sạc': 'cổng kết nối/sạc',\n",
       " 'công nghệ pin': 'công nghệ pin',\n",
       " 'hệ điều hành': 'hệ điều hành',\n",
       " 'bộ nhớ trong': 'bộ nhớ còn lại (khả dụng)',\n",
       " 'dung lượng pin': 'loại pin',\n",
       " 'công nghệ màn hình': 'công nghệ màn hình',\n",
       " 'số cổng': 'bluetooth',\n",
       " 'chất liệu': 'chất liệu',\n",
       " 'camera sau': 'camera sau'}"
      ]
     },
     "execution_count": 24,
     "metadata": {},
     "output_type": "execute_result"
    }
   ],
   "source": [
    "mapping"
   ]
  },
  {
   "cell_type": "code",
   "execution_count": 3,
   "id": "6890d638-d3e9-4e12-a7c4-d71120b06343",
   "metadata": {},
   "outputs": [],
   "source": [
    "mediamar = pd.read_csv(\"airflow/dags/data/mediamart.csv\")"
   ]
  },
  {
   "cell_type": "code",
   "execution_count": 4,
   "id": "1b704452-f929-4f59-acaf-9937bc81d2bf",
   "metadata": {},
   "outputs": [],
   "source": [
    "tgdd = pd.read_csv(\"airflow/dags/data/thegioididong.csv\")"
   ]
  },
  {
   "cell_type": "code",
   "execution_count": 5,
   "id": "0d273f27-0463-4101-97fa-aa1dd85b365e",
   "metadata": {},
   "outputs": [],
   "source": [
    "matcher = algorithms.Cupid()"
   ]
  },
  {
   "cell_type": "code",
   "execution_count": 6,
   "id": "23c802fb-5eb3-48d6-aa9a-c342b806cd68",
   "metadata": {},
   "outputs": [],
   "source": [
    "results = valentine_match(mediamar, tgdd, matcher)"
   ]
  },
  {
   "cell_type": "code",
   "execution_count": 7,
   "id": "9ca45636-6ba7-4042-841b-6bc5cb987ec1",
   "metadata": {},
   "outputs": [],
   "source": [
    "mapping = {}\n",
    "\n",
    "for x in results:\n",
    "    if x[0][1] not in mapping.keys() and x[1][1] not in mapping.values():\n",
    "        mapping[x[0][1]] = x[1][1]"
   ]
  },
  {
   "cell_type": "code",
   "execution_count": 8,
   "id": "c810eb8f-b8d7-4631-9e4e-0bb53d150bed",
   "metadata": {},
   "outputs": [
    {
     "data": {
      "text/plain": [
       "38"
      ]
     },
     "execution_count": 8,
     "metadata": {},
     "output_type": "execute_result"
    }
   ],
   "source": [
    "len(list(mapping))"
   ]
  },
  {
   "cell_type": "code",
   "execution_count": 9,
   "id": "8fa0ef19-fb02-48f9-a8b8-029977fef277",
   "metadata": {},
   "outputs": [],
   "source": [
    "matcher = algorithms.JaccardLevenMatcher()\n",
    "results = valentine_match(mediamar, tgdd, matcher)"
   ]
  },
  {
   "cell_type": "code",
   "execution_count": 10,
   "id": "aaac64e8-8361-483f-b879-7821752963c5",
   "metadata": {},
   "outputs": [],
   "source": [
    "mapping1 = {}\n",
    "\n",
    "for x in results:\n",
    "    if x[0][1] not in mapping1.keys() and x[1][1] not in mapping1.values():\n",
    "        mapping1[x[0][1]] = x[1][1]"
   ]
  },
  {
   "cell_type": "code",
   "execution_count": 11,
   "id": "e0d1e98c-e975-4326-9427-70db59790215",
   "metadata": {},
   "outputs": [
    {
     "data": {
      "text/plain": [
       "37"
      ]
     },
     "execution_count": 11,
     "metadata": {},
     "output_type": "execute_result"
    }
   ],
   "source": [
    "len(list(mapping1))"
   ]
  },
  {
   "cell_type": "code",
   "execution_count": 12,
   "id": "fbf39b1d-20cc-4ef4-9bd3-9bd92bf50f0f",
   "metadata": {},
   "outputs": [
    {
     "data": {
      "text/plain": [
       "{'Unnamed: 0': 'Unnamed: 0',\n",
       " 'name': 'name',\n",
       " 'img_url': 'img_url',\n",
       " 'thương hiệu': 'thương hiệu',\n",
       " 'công nghệ màn hình': 'công nghệ màn hình',\n",
       " 'độ phân giải': 'độ phân giải',\n",
       " 'mặt kính cảm ứng': 'mặt kính cảm ứng',\n",
       " 'quay phim': 'quay phim',\n",
       " 'đèn flash': 'đèn flash',\n",
       " 'hệ điều hành': 'hệ điều hành',\n",
       " 'chip đồ họa (gpu)': 'chip đồ họa (gpu)',\n",
       " 'ram': 'ram',\n",
       " 'bộ nhớ': 'bộ nhớ',\n",
       " 'wifi': 'wifi',\n",
       " 'gps': 'gps',\n",
       " 'bluetooth': 'bluetooth',\n",
       " 'cổng kết nối/sạc': 'cổng kết nối/sạc',\n",
       " 'jack tai nghe': 'jack tai nghe',\n",
       " 'kết nối khác': 'kết nối khác',\n",
       " 'thiết kế': 'thiết kế',\n",
       " 'chất liệu': 'chất liệu',\n",
       " 'loại pin': 'loại pin',\n",
       " 'tính năng đặc biệt': 'tính năng đặc biệt',\n",
       " 'ghi âm': 'ghi âm',\n",
       " 'price': 'price',\n",
       " 'url': 'url',\n",
       " 'dung lượng pin': 'dung lượng pin',\n",
       " 'xem phim': 'xem phim',\n",
       " 'nghe nhạc': 'nghe nhạc',\n",
       " 'radio': 'radio',\n",
       " 'date': 'date',\n",
       " 'color': 'color',\n",
       " 'màn hình': 'màn hình rộng',\n",
       " 'thẻ nhớ ngoài': 'thẻ nhớ',\n",
       " 'hỗ trợ thẻ tối đa': 'hỗ trợ sạc tối đa',\n",
       " 'tốc độ tối đa': 'độ sáng tối đa',\n",
       " 'loại sim': 'sim',\n",
       " 'chống nước': 'kháng nước, bụi'}"
      ]
     },
     "execution_count": 12,
     "metadata": {},
     "output_type": "execute_result"
    }
   ],
   "source": [
    "mapping"
   ]
  },
  {
   "cell_type": "code",
   "execution_count": 13,
   "id": "f02f9849-0f6f-43a1-8f8f-c33e71b38f79",
   "metadata": {},
   "outputs": [
    {
     "data": {
      "text/plain": [
       "{'img_url': 'img_url',\n",
       " 'date': 'date',\n",
       " 'ram': 'bộ nhớ',\n",
       " 'công nghệ màn hình': 'công nghệ màn hình',\n",
       " 'đèn flash': 'radio',\n",
       " 'số khe sim': 'sim',\n",
       " 'cổng kết nối/sạc': 'cổng kết nối/sạc',\n",
       " 'mặt kính cảm ứng': 'mặt kính cảm ứng',\n",
       " 'hệ điều hành': 'hệ điều hành',\n",
       " 'bộ nhớ': 'ram',\n",
       " 'camera trước': 'độ phân giải',\n",
       " 'jack tai nghe': 'jack tai nghe',\n",
       " 'kết nối khác': 'kết nối khác',\n",
       " 'color': 'color',\n",
       " 'thương hiệu': 'thương hiệu',\n",
       " 'Unnamed: 0': 'Unnamed: 0',\n",
       " 'hỗ trợ 5g': 'mạng di động',\n",
       " 'thiết kế': 'thiết kế',\n",
       " 'xem phim': 'xem phim',\n",
       " 'chip đồ họa (gpu)': 'chip đồ họa (gpu)',\n",
       " 'bluetooth': 'bluetooth',\n",
       " 'chất liệu': 'chất liệu',\n",
       " 'ghi âm': 'ghi âm',\n",
       " 'price': 'price',\n",
       " 'chống nước': 'kháng nước, bụi',\n",
       " 'radio': 'đèn flash',\n",
       " 'cpu': 'chip xử lý (cpu)',\n",
       " 'wifi': 'wifi',\n",
       " 'gps': 'gps',\n",
       " 'quay phim': 'quay phim',\n",
       " 'tốc độ tối đa': 'tốc độ cpu',\n",
       " 'chức năng khác': 'bảo mật nâng cao',\n",
       " 'dung lượng pin': 'dung lượng pin',\n",
       " 'thẻ nhớ ngoài': 'thẻ nhớ',\n",
       " 'băng tần 2g': 'nghe nhạc',\n",
       " 'mã sản phẩm': 'name',\n",
       " 'hỗ trợ thẻ tối đa': 'bộ nhớ còn lại (khả dụng) khoảng'}"
      ]
     },
     "execution_count": 13,
     "metadata": {},
     "output_type": "execute_result"
    }
   ],
   "source": [
    "mapping1"
   ]
  },
  {
   "cell_type": "code",
   "execution_count": null,
   "id": "5d3123ee-1207-4c89-931c-77295389ae17",
   "metadata": {},
   "outputs": [],
   "source": []
  }
 ],
 "metadata": {
  "kernelspec": {
   "display_name": "Python 3 (ipykernel)",
   "language": "python",
   "name": "python3"
  },
  "language_info": {
   "codemirror_mode": {
    "name": "ipython",
    "version": 3
   },
   "file_extension": ".py",
   "mimetype": "text/x-python",
   "name": "python",
   "nbconvert_exporter": "python",
   "pygments_lexer": "ipython3",
   "version": "3.9.13"
  }
 },
 "nbformat": 4,
 "nbformat_minor": 5
}
